{
 "cells": [
  {
   "cell_type": "code",
   "execution_count": 47,
   "metadata": {},
   "outputs": [],
   "source": [
    "import geopandas as gpd\n",
    "import pandas as pd\n",
    "from pandas import DataFrame\n",
    "import fiona\n",
    "from shapely.geometry import shape\n",
    "# pip install geojson\n",
    "import geojson\n",
    "import json\n",
    "import os\n",
    "from ipyleaflet import Map, Polygon, DrawControl, basemaps"
   ]
  },
  {
   "cell_type": "code",
   "execution_count": 69,
   "metadata": {},
   "outputs": [
    {
     "data": {
      "application/vnd.jupyter.widget-view+json": {
       "model_id": "16412eb8f5564cf18d1218f9f8ca6c9e",
       "version_major": 2,
       "version_minor": 0
      },
      "text/plain": [
       "Map(center=[0, 0], controls=(ZoomControl(options=['position', 'zoom_in_text', 'zoom_in_title', 'zoom_out_text'…"
      ]
     },
     "metadata": {},
     "output_type": "display_data"
    }
   ],
   "source": [
    "# Create a map widget and draw bounding box/polygon\n",
    "m = Map(\n",
    "    basemap=basemaps.Esri.WorldImagery,\n",
    "    center=(0,0),\n",
    "    zoom=1.,\n",
    "    box_zoom = True\n",
    ")\n",
    "\n",
    "draw = DrawControl(circlemarker={}, polyline={})\n",
    "\n",
    "draw.rectangle = {\n",
    "    \"shapeOptions\": {\n",
    "        \"fillColor\": \"#FFA700\",\n",
    "        \"color\": \"#FFA700\",\n",
    "        \"fillOpacity\": 0.5\n",
    "    }\n",
    "}\n",
    "\n",
    "feature_collection = {\n",
    "    'type': 'FeatureCollection',\n",
    "    'features': []\n",
    "}\n",
    "\n",
    "def handle_draw(self, action, geo_json):\n",
    "    feature_collection['features'].append(geo_json)\n",
    "    print(action)\n",
    "    print(geo_json)\n",
    "    return geo_json\n",
    "\n",
    "draw.on_draw(handle_draw)\n",
    "m.add_control(draw)\n",
    "\n",
    "m"
   ]
  },
  {
   "cell_type": "code",
   "execution_count": 6,
   "metadata": {},
   "outputs": [
    {
     "name": "stdout",
     "output_type": "stream",
     "text": [
      "[{'type': 'Feature', 'properties': {'style': {'stroke': True, 'color': '#FFA700', 'weight': 4, 'opacity': 0.5, 'fill': True, 'fillColor': '#FFA700', 'fillOpacity': 0.5, 'clickable': True}}, 'geometry': {'type': 'Polygon', 'coordinates': [[[-78.75, -70.844673], [-78.75, -63.233627], [-52.03125, -63.233627], [-52.03125, -70.844673], [-78.75, -70.844673]]]}}]\n"
     ]
    }
   ],
   "source": [
    "# Convert feature collection json to variable\n",
    "bbox = feature_collection['features']\n",
    "print(bbox)"
   ]
  },
  {
   "cell_type": "code",
   "execution_count": 7,
   "metadata": {},
   "outputs": [
    {
     "name": "stdout",
     "output_type": "stream",
     "text": [
      "((-80.17871349622823, -200.39062500000003), (80.17871349622823, 201.09375000000003))\n"
     ]
    }
   ],
   "source": [
    "# Prints bounds of map object // I would like this to print bounds of bbox\n",
    "print(m.bounds)"
   ]
  },
  {
   "cell_type": "code",
   "execution_count": 8,
   "metadata": {},
   "outputs": [],
   "source": [
    "# Write bounding box to geojson file\n",
    "with open('data_bbox2.json', 'w') as f:\n",
    "    json.dump(bbox, f)"
   ]
  },
  {
   "cell_type": "code",
   "execution_count": 9,
   "metadata": {},
   "outputs": [
    {
     "name": "stdout",
     "output_type": "stream",
     "text": [
      "[{\"type\": \"Feature\", \"properties\": {\"style\": {\"stroke\": true, \"color\": \"#FFA700\", \"weight\": 4, \"opacity\": 0.5, \"fill\": true, \"fillColor\": \"#FFA700\", \"fillOpacity\": 0.5, \"clickable\": true}}, \"geometry\": {\"type\": \"Polygon\", \"coordinates\": [[[-78.75, -70.844673], [-78.75, -63.233627], [-52.03125, -63.233627], [-52.03125, -70.844673], [-78.75, -70.844673]]]}}]"
     ]
    }
   ],
   "source": [
    "!cat data_bbox2.json"
   ]
  },
  {
   "cell_type": "code",
   "execution_count": 10,
   "metadata": {},
   "outputs": [
    {
     "name": "stdout",
     "output_type": "stream",
     "text": [
      "/home/jovyan/icesat2_hackweek/notebooks/data_bbox2.json\n"
     ]
    }
   ],
   "source": [
    "shapefile_filepath = str(os.getcwd() + '/data_bbox2.json')\n",
    "print(shapefile_filepath)"
   ]
  },
  {
   "cell_type": "code",
   "execution_count": 18,
   "metadata": {},
   "outputs": [
    {
     "name": "stdout",
     "output_type": "stream",
     "text": [
      "      type                                         properties  \\\n",
      "0  Feature  {'style': {'stroke': True, 'color': '#FFA700',...   \n",
      "\n",
      "                                            geometry  \n",
      "0  {'type': 'Polygon', 'coordinates': [[[-78.75, ...  \n"
     ]
    }
   ],
   "source": [
    "#gdf = gpd.read_file(shapefile_filepath)\n",
    "path = pd.read_json(shapefile_filepath)\n",
    "print(path)"
   ]
  },
  {
   "cell_type": "code",
   "execution_count": 39,
   "metadata": {},
   "outputs": [
    {
     "name": "stdout",
     "output_type": "stream",
     "text": [
      "      type                                         properties  \\\n",
      "0  Feature  {'style': {'stroke': True, 'color': '#FFA700',...   \n",
      "\n",
      "                                            geometry  \\\n",
      "0  {'type': 'Polygon', 'coordinates': [[[-78.75, ...   \n",
      "\n",
      "                                            features  \n",
      "0  {'geometry': {'type': 'Polygon', 'coordinates'...  \n"
     ]
    },
    {
     "data": {
      "text/html": [
       "<div>\n",
       "<style scoped>\n",
       "    .dataframe tbody tr th:only-of-type {\n",
       "        vertical-align: middle;\n",
       "    }\n",
       "\n",
       "    .dataframe tbody tr th {\n",
       "        vertical-align: top;\n",
       "    }\n",
       "\n",
       "    .dataframe thead th {\n",
       "        text-align: right;\n",
       "    }\n",
       "</style>\n",
       "<table border=\"1\" class=\"dataframe\">\n",
       "  <thead>\n",
       "    <tr style=\"text-align: right;\">\n",
       "      <th></th>\n",
       "      <th>geometry</th>\n",
       "    </tr>\n",
       "  </thead>\n",
       "  <tbody>\n",
       "    <tr>\n",
       "      <th>0</th>\n",
       "      <td>POLYGON ((-78.75000 -70.84467, -78.75000 -63.2...</td>\n",
       "    </tr>\n",
       "  </tbody>\n",
       "</table>\n",
       "</div>"
      ],
      "text/plain": [
       "                                            geometry\n",
       "0  POLYGON ((-78.75000 -70.84467, -78.75000 -63.2..."
      ]
     },
     "execution_count": 39,
     "metadata": {},
     "output_type": "execute_result"
    }
   ],
   "source": [
    "gdf = gpd.GeoDataFrame(path)\n",
    "print(gdf)\n",
    "# features column does not need to be stored, this is just for illustration\n",
    "gdf['features'] = gdf['geometry'].apply(lambda x: {'geometry': x, 'properties': {}})\n",
    "gdf2 = gpd.GeoDataFrame.from_features(gdf['features'])\n",
    "\n",
    "#gdf = gdf.set_geometry(gdf2.geometry)\n",
    "gdf2.head()"
   ]
  },
  {
   "cell_type": "code",
   "execution_count": 40,
   "metadata": {},
   "outputs": [
    {
     "name": "stdout",
     "output_type": "stream",
     "text": [
      "                                            geometry\n",
      "0  POLYGON ((-78.75000 -70.84467, -78.75000 -63.2...\n"
     ]
    }
   ],
   "source": [
    "print(gdf2)"
   ]
  },
  {
   "cell_type": "code",
   "execution_count": 44,
   "metadata": {},
   "outputs": [
    {
     "name": "stdout",
     "output_type": "stream",
     "text": [
      "0    POLYGON ((-78.75000 -70.84467, -78.75000 -63.2...\n",
      "Name: geometry, dtype: geometry\n"
     ]
    }
   ],
   "source": [
    "product = gdf2['geometry']\n",
    "print(product)"
   ]
  },
  {
   "cell_type": "code",
   "execution_count": 48,
   "metadata": {},
   "outputs": [],
   "source": [
    "df = DataFrame(gdf2, columns= ['geometry'])"
   ]
  },
  {
   "cell_type": "code",
   "execution_count": 49,
   "metadata": {},
   "outputs": [
    {
     "data": {
      "text/html": [
       "<div>\n",
       "<style scoped>\n",
       "    .dataframe tbody tr th:only-of-type {\n",
       "        vertical-align: middle;\n",
       "    }\n",
       "\n",
       "    .dataframe tbody tr th {\n",
       "        vertical-align: top;\n",
       "    }\n",
       "\n",
       "    .dataframe thead th {\n",
       "        text-align: right;\n",
       "    }\n",
       "</style>\n",
       "<table border=\"1\" class=\"dataframe\">\n",
       "  <thead>\n",
       "    <tr style=\"text-align: right;\">\n",
       "      <th></th>\n",
       "      <th>geometry</th>\n",
       "    </tr>\n",
       "  </thead>\n",
       "  <tbody>\n",
       "    <tr>\n",
       "      <th>0</th>\n",
       "      <td>POLYGON ((-78.75000 -70.84467, -78.75000 -63.2...</td>\n",
       "    </tr>\n",
       "  </tbody>\n",
       "</table>\n",
       "</div>"
      ],
      "text/plain": [
       "                                            geometry\n",
       "0  POLYGON ((-78.75000 -70.84467, -78.75000 -63.2..."
      ]
     },
     "execution_count": 49,
     "metadata": {},
     "output_type": "execute_result"
    }
   ],
   "source": [
    "df"
   ]
  }
 ],
 "metadata": {
  "kernelspec": {
   "display_name": "Python 3",
   "language": "python",
   "name": "python3"
  },
  "language_info": {
   "codemirror_mode": {
    "name": "ipython",
    "version": 3
   },
   "file_extension": ".py",
   "mimetype": "text/x-python",
   "name": "python",
   "nbconvert_exporter": "python",
   "pygments_lexer": "ipython3",
   "version": "3.7.6"
  }
 },
 "nbformat": 4,
 "nbformat_minor": 4
}
